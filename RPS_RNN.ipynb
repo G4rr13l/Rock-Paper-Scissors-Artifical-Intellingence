{
 "cells": [
  {
   "cell_type": "code",
   "execution_count": 1,
   "metadata": {},
   "outputs": [
    {
     "name": "stderr",
     "output_type": "stream",
     "text": [
      "Using TensorFlow backend.\n"
     ]
    }
   ],
   "source": [
    "from keras.layers import Dense,SimpleRNN,Input,LSTM\n",
    "from keras.models import Model\n",
    "import numpy as np"
   ]
  },
  {
   "cell_type": "code",
   "execution_count": 2,
   "metadata": {},
   "outputs": [],
   "source": [
    "bot=0\n",
    "human=0\n",
    "base=[]"
   ]
  },
  {
   "cell_type": "code",
   "execution_count": 22,
   "metadata": {},
   "outputs": [],
   "source": [
    "def ir(m):\n",
    "    if m==0:\n",
    "        return \"rock\"\n",
    "    if m==1:\n",
    "        return \"paper\"\n",
    "    if m==2:\n",
    "        return \"scissors\"\n",
    "def rep(m):\n",
    "    a=[1,2,0]\n",
    "    return a[m]\n",
    "def ell(m,num):\n",
    "    q=(m+1)/(num+1)\n",
    "    if q==3 or q==0.5 or q==2/3:\n",
    "        return \"you won\"\n",
    "    if q==2 or q==1/3 or q==1.5:\n",
    "        return \"you lost\"\n",
    "    if q==1:\n",
    "        return \"tie\"\n",
    "def nell(m,num):\n",
    "    q=(m+1)/(num+1)\n",
    "    if q==3 or q==0.5 or q==2/3:\n",
    "        return 2\n",
    "    if q==2 or q==1/3 or q==1.5:\n",
    "        return 1\n",
    "    if q==1:\n",
    "        return 0\n",
    "        \n",
    "def inp(num):\n",
    "    q=num-1\n",
    "    z=np.zeros(3)\n",
    "    z[q]=1\n",
    "    return z\n",
    "def dec(z):\n",
    "    return np.argmax(z)"
   ]
  },
  {
   "cell_type": "code",
   "execution_count": 24,
   "metadata": {},
   "outputs": [
    {
     "name": "stdout",
     "output_type": "stream",
     "text": [
      "choose one 1:rock,2:paper or 3:scissors\n",
      "1\n",
      "your opponent said : rock and tie\n",
      "choose one 1:rock,2:paper or 3:scissors\n",
      "1\n",
      "your opponent said : scissors and you won\n",
      "choose one 1:rock,2:paper or 3:scissors\n",
      "1\n",
      "your opponent said : rock and tie\n",
      "choose one 1:rock,2:paper or 3:scissors\n",
      "1\n",
      "your opponent said : paper and you lost\n",
      "choose one 1:rock,2:paper or 3:scissors\n",
      "1\n",
      "your opponent said : scissors and you won\n",
      "choose one 1:rock,2:paper or 3:scissors\n",
      "1\n",
      "your opponent said : scissors and you won\n",
      "choose one 1:rock,2:paper or 3:scissors\n",
      "1\n",
      "your opponent said : scissors and you won\n",
      "choose one 1:rock,2:paper or 3:scissors\n",
      "1\n",
      "your opponent said : scissors and you won\n",
      "choose one 1:rock,2:paper or 3:scissors\n",
      "1\n",
      "your opponent said : rock and tie\n",
      "choose one 1:rock,2:paper or 3:scissors\n",
      "1\n",
      "your opponent said : paper and you lost\n",
      "choose one 1:rock,2:paper or 3:scissors\n",
      "1\n",
      "your opponent said : rock and tie\n",
      "choose one 1:rock,2:paper or 3:scissors\n",
      "1\n",
      "your opponent said : paper and you lost\n",
      "choose one 1:rock,2:paper or 3:scissors\n",
      "1\n",
      "your opponent said : paper and you lost\n",
      "choose one 1:rock,2:paper or 3:scissors\n",
      "1\n",
      "your opponent said : paper and you lost\n",
      "choose one 1:rock,2:paper or 3:scissors\n",
      "1\n",
      "your opponent said : rock and tie\n",
      "choose one 1:rock,2:paper or 3:scissors\n",
      "1\n",
      "your opponent said : rock and tie\n",
      "choose one 1:rock,2:paper or 3:scissors\n",
      "1\n",
      "your opponent said : scissors and you won\n",
      "choose one 1:rock,2:paper or 3:scissors\n",
      "1\n",
      "your opponent said : paper and you lost\n",
      "choose one 1:rock,2:paper or 3:scissors\n",
      "1\n",
      "your opponent said : paper and you lost\n",
      "choose one 1:rock,2:paper or 3:scissors\n",
      "1\n",
      "your opponent said : scissors and you won\n",
      "choose one 1:rock,2:paper or 3:scissors\n",
      "1\n",
      "your opponent said : scissors and you won\n",
      "choose one 1:rock,2:paper or 3:scissors\n",
      "1\n",
      "your opponent said : paper and you lost\n",
      "choose one 1:rock,2:paper or 3:scissors\n",
      "1\n",
      "your opponent said : scissors and you won\n",
      "choose one 1:rock,2:paper or 3:scissors\n",
      "1\n",
      "your opponent said : paper and you lost\n",
      "choose one 1:rock,2:paper or 3:scissors\n",
      "1\n",
      "your opponent said : rock and tie\n",
      "choose one 1:rock,2:paper or 3:scissors\n",
      "1\n",
      "your opponent said : scissors and you won\n",
      "choose one 1:rock,2:paper or 3:scissors\n",
      "1\n",
      "your opponent said : rock and tie\n",
      "choose one 1:rock,2:paper or 3:scissors\n",
      "1\n",
      "your opponent said : scissors and you won\n",
      "choose one 1:rock,2:paper or 3:scissors\n",
      "1\n",
      "your opponent said : rock and tie\n",
      "choose one 1:rock,2:paper or 3:scissors\n",
      "1\n",
      "your opponent said : paper and you lost\n"
     ]
    }
   ],
   "source": [
    "a=np.zeros((30,3))\n",
    "for i in range(30):\n",
    "    print(\"choose one 1:rock,2:paper or 3:scissors\")\n",
    "    num=int(input())-1\n",
    "    a[i,num]=1\n",
    "    m=np.random.randint(0,3)\n",
    "    print(\"your opponent said :\", ir(m), \"and\",ell(m,num))"
   ]
  },
  {
   "cell_type": "markdown",
   "metadata": {},
   "source": [
    "# len(a)"
   ]
  },
  {
   "cell_type": "code",
   "execution_count": 25,
   "metadata": {},
   "outputs": [],
   "source": [
    "v=10\n",
    "h=len(a)-v\n",
    "chars_in  = np.zeros((h,v,3))\n",
    "chars_out = np.zeros((h,3))\n",
    "for i in range(h):\n",
    "    for k in range(v):\n",
    "        chars_in[i,k,:]=a[i+k,:]\n",
    "    chars_out[i,:]=a[i+v,:]"
   ]
  },
  {
   "cell_type": "code",
   "execution_count": 26,
   "metadata": {},
   "outputs": [
    {
     "data": {
      "text/plain": [
       "array([1., 0., 0.])"
      ]
     },
     "execution_count": 26,
     "metadata": {},
     "output_type": "execute_result"
    }
   ],
   "source": [
    "a[0,:]\n"
   ]
  },
  {
   "cell_type": "code",
   "execution_count": 27,
   "metadata": {
    "scrolled": true
   },
   "outputs": [
    {
     "data": {
      "text/plain": [
       "array([[1., 0., 0.],\n",
       "       [1., 0., 0.],\n",
       "       [1., 0., 0.],\n",
       "       [1., 0., 0.],\n",
       "       [1., 0., 0.],\n",
       "       [1., 0., 0.],\n",
       "       [1., 0., 0.],\n",
       "       [1., 0., 0.],\n",
       "       [1., 0., 0.],\n",
       "       [1., 0., 0.],\n",
       "       [1., 0., 0.],\n",
       "       [1., 0., 0.],\n",
       "       [1., 0., 0.],\n",
       "       [1., 0., 0.],\n",
       "       [1., 0., 0.],\n",
       "       [1., 0., 0.],\n",
       "       [1., 0., 0.],\n",
       "       [1., 0., 0.],\n",
       "       [1., 0., 0.],\n",
       "       [1., 0., 0.]])"
      ]
     },
     "execution_count": 27,
     "metadata": {},
     "output_type": "execute_result"
    }
   ],
   "source": [
    "chars_out"
   ]
  },
  {
   "cell_type": "code",
   "execution_count": 28,
   "metadata": {},
   "outputs": [],
   "source": [
    "inp=Input(shape=(10,3))\n",
    "net=LSTM(128,activation='relu',return_sequences=True,dropout=0.3,recurrent_dropout=0.15)(inp)\n",
    "net=LSTM(128,dropout=0.3,activation='relu',recurrent_dropout=0.15)(net)\n",
    "net=Dense(3,activation='softmax')(net)\n",
    "model=Model(inp,net)\n",
    "model.compile(loss='categorical_crossentropy',metrics=['accuracy'],optimizer='adam')"
   ]
  },
  {
   "cell_type": "code",
   "execution_count": 29,
   "metadata": {
    "scrolled": true
   },
   "outputs": [
    {
     "name": "stdout",
     "output_type": "stream",
     "text": [
      "Epoch 1/10\n",
      "20/20 [==============================] - 1s 71ms/step - loss: 1.1062 - acc: 0.4000\n",
      "Epoch 2/10\n",
      "20/20 [==============================] - 0s 3ms/step - loss: 1.0869 - acc: 0.3000\n",
      "Epoch 3/10\n",
      "20/20 [==============================] - 0s 3ms/step - loss: 1.0637 - acc: 1.0000\n",
      "Epoch 4/10\n",
      "20/20 [==============================] - 0s 3ms/step - loss: 1.0354 - acc: 1.0000\n",
      "Epoch 5/10\n",
      "20/20 [==============================] - 0s 3ms/step - loss: 1.0052 - acc: 1.0000\n",
      "Epoch 6/10\n",
      "20/20 [==============================] - 0s 3ms/step - loss: 0.9717 - acc: 1.0000\n",
      "Epoch 7/10\n",
      "20/20 [==============================] - 0s 4ms/step - loss: 0.9397 - acc: 1.0000\n",
      "Epoch 8/10\n",
      "20/20 [==============================] - 0s 3ms/step - loss: 0.9437 - acc: 1.0000\n",
      "Epoch 9/10\n",
      "20/20 [==============================] - 0s 4ms/step - loss: 0.8222 - acc: 1.0000\n",
      "Epoch 10/10\n",
      "20/20 [==============================] - 0s 3ms/step - loss: 0.7870 - acc: 1.0000\n"
     ]
    },
    {
     "data": {
      "text/plain": [
       "<keras.callbacks.History at 0x7f9a8c2e8c50>"
      ]
     },
     "execution_count": 29,
     "metadata": {},
     "output_type": "execute_result"
    }
   ],
   "source": [
    "model.fit(chars_in,chars_out,epochs=10)"
   ]
  },
  {
   "cell_type": "code",
   "execution_count": 30,
   "metadata": {},
   "outputs": [
    {
     "data": {
      "text/plain": [
       "2"
      ]
     },
     "execution_count": 30,
     "metadata": {},
     "output_type": "execute_result"
    }
   ],
   "source": [
    "rep(1)"
   ]
  },
  {
   "cell_type": "code",
   "execution_count": 31,
   "metadata": {},
   "outputs": [],
   "source": [
    "base=a"
   ]
  },
  {
   "cell_type": "code",
   "execution_count": 32,
   "metadata": {},
   "outputs": [
    {
     "data": {
      "text/plain": [
       "array([[0., 0., 0.],\n",
       "       [0., 0., 0.],\n",
       "       [0., 0., 0.],\n",
       "       [0., 0., 0.],\n",
       "       [0., 0., 0.],\n",
       "       [0., 0., 0.],\n",
       "       [0., 0., 0.],\n",
       "       [0., 0., 0.],\n",
       "       [0., 0., 0.],\n",
       "       [0., 0., 0.],\n",
       "       [0., 0., 0.],\n",
       "       [0., 0., 0.],\n",
       "       [0., 0., 0.],\n",
       "       [0., 0., 0.],\n",
       "       [0., 0., 0.],\n",
       "       [0., 0., 0.],\n",
       "       [0., 0., 0.],\n",
       "       [0., 0., 0.],\n",
       "       [0., 0., 0.],\n",
       "       [0., 0., 0.],\n",
       "       [0., 0., 0.],\n",
       "       [0., 0., 0.],\n",
       "       [0., 0., 0.],\n",
       "       [0., 0., 0.],\n",
       "       [0., 0., 0.],\n",
       "       [0., 0., 0.],\n",
       "       [0., 0., 0.],\n",
       "       [0., 0., 0.],\n",
       "       [0., 0., 0.],\n",
       "       [0., 0., 0.]])"
      ]
     },
     "execution_count": 32,
     "metadata": {},
     "output_type": "execute_result"
    }
   ],
   "source": [
    "base-a"
   ]
  },
  {
   "cell_type": "code",
   "execution_count": null,
   "metadata": {},
   "outputs": [],
   "source": []
  },
  {
   "cell_type": "code",
   "execution_count": 33,
   "metadata": {},
   "outputs": [
    {
     "data": {
      "text/plain": [
       "30"
      ]
     },
     "execution_count": 33,
     "metadata": {},
     "output_type": "execute_result"
    }
   ],
   "source": [
    "len(base)"
   ]
  },
  {
   "cell_type": "code",
   "execution_count": 34,
   "metadata": {},
   "outputs": [
    {
     "data": {
      "text/plain": [
       "5"
      ]
     },
     "execution_count": 34,
     "metadata": {},
     "output_type": "execute_result"
    }
   ],
   "source": [
    "5"
   ]
  },
  {
   "cell_type": "markdown",
   "metadata": {},
   "source": [
    "i=30\n",
    "while True:\n",
    "    num=int(input())\n",
    "    q=num-1\n",
    "    z=np.zeros(3)\n",
    "    z[q]=1\n",
    "    output=model.predict(chars_in)\n",
    "    d=np.zeros((h,3))\n",
    "    for i in range(h):\n",
    "        q=np.argmax(output[i,:])\n",
    "        d[i,q]=1\n",
    "    u=nell(rep(np.argmax(d[0:])),num-1)\n",
    "    if u==1:\n",
    "        bot+=1\n",
    "        print(\"score : human : %d ,bot : %d\"%(human,bot))\n",
    "    if u==2:\n",
    "        human+=1\n",
    "        print(\"score : human : %d ,bot : %d\"%(human,bot))\n",
    "    base[i:]=z\n",
    "    v=10\n",
    "    h=len(base)-v\n",
    "    chars_in  = np.zeros((h,v,3))\n",
    "    chars_out = np.zeros((h,3))\n",
    "    for i in range(h):\n",
    "        for k in range(v):\n",
    "            chars_in[i,k,:]=base[i+k,:]\n",
    "        chars_out[i,:]=base[i+v,:]\n",
    "    \n",
    "    model.fit(chars_in,chars_out,epochs=1)\n",
    "    i+=1"
   ]
  },
  {
   "cell_type": "code",
   "execution_count": null,
   "metadata": {},
   "outputs": [],
   "source": [
    "bot/(human+bot)"
   ]
  }
 ],
 "metadata": {
  "kernelspec": {
   "display_name": "Python 3",
   "language": "python",
   "name": "python3"
  },
  "language_info": {
   "codemirror_mode": {
    "name": "ipython",
    "version": 3
   },
   "file_extension": ".py",
   "mimetype": "text/x-python",
   "name": "python",
   "nbconvert_exporter": "python",
   "pygments_lexer": "ipython3",
   "version": "3.5.2"
  }
 },
 "nbformat": 4,
 "nbformat_minor": 2
}
